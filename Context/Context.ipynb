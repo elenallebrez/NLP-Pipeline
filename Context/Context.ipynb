{
 "cells": [
  {
   "cell_type": "markdown",
   "id": "8aa10d9f-ca56-45d2-8644-141f20b8f292",
   "metadata": {},
   "source": [
    "# Contextualizing Conversations with OpenAI (Async)\n",
    "\n",
    "This notebook processes JSON files containing conversations and generates a short cultural context summary for each conversation.  \n",
    "It uses **asynchronous requests** to the OpenAI API for efficiency, allowing multiple files to be processed in parallel.  "
   ]
  },
  {
   "cell_type": "code",
   "execution_count": 7,
   "id": "73946a7c-9128-416e-a3c0-ebb435edc6d7",
   "metadata": {},
   "outputs": [],
   "source": [
    "import os\n",
    "import json\n",
    "import asyncio\n",
    "from openai import AsyncOpenAI"
   ]
  },
  {
   "cell_type": "markdown",
   "id": "359e4fa5-717d-4564-80c9-6c422f06698b",
   "metadata": {},
   "source": [
    "### 1. API Client Setup\n",
    "We initialize the **AsyncOpenAI client** using our API key.  \n",
    "This client allows us to make non-blocking calls to the OpenAI API, which is useful when processing multiple files simultaneously."
   ]
  },
  {
   "cell_type": "code",
   "execution_count": 13,
   "id": "6340f6cb-c781-4fd6-8aaa-b5e711a70dc1",
   "metadata": {},
   "outputs": [],
   "source": [
    "client = AsyncOpenAI(api_key='YOUR-API-KEY')\n",
    "\n",
    "input_folder = \"../Data Cleaning 2/Json Files\"\n",
    "output_folder = \"./context\"\n",
    "os.makedirs(output_folder, exist_ok=True)\n",
    "\n",
    "# Limit concurrent requests to avoid hitting rate limits\n",
    "semaphore = asyncio.Semaphore(10)"
   ]
  },
  {
   "cell_type": "markdown",
   "id": "b7c288ab-1e79-4dac-bfb6-d9489c9bc970",
   "metadata": {},
   "source": [
    "### Extracting Cultural Context\n",
    "This function:\n",
    "1. Builds a **system prompt** instructing the model to summarize only the *cultural context* of a conversation.  \n",
    "2. Joins the conversation messages into a single text block.  \n",
    "3. Sends the request asynchronously to the model.  \n",
    "4. Returns the cultural context summary.  "
   ]
  },
  {
   "cell_type": "code",
   "execution_count": 14,
   "id": "fba386c9-5bc4-4cd5-b5fa-15eb381a2f8f",
   "metadata": {},
   "outputs": [],
   "source": [
    "async def extract_context(conversation, country, language):\n",
    "    system_prompt = (\n",
    "        f\"You are an assistant that summarizes only the cultural context of a conversation from {country}. \"\n",
    "        f\"Return a short and precise sentence. Do not include any user details, no message content, and no summaries of what was said. \"\n",
    "        f\"Focus only on cultural factors that might influence the communication tone, expectations, or interaction style in {country}. \"\n",
    "        f\"Keep the output in {language}, and keep it under 100 words.\"\n",
    "    )\n",
    "\n",
    "    full_text = \"\\n\".join([f\"{m['role']}: {m['content']}\" for m in conversation if m['role'] in ['user', 'bot'] and m['content'].strip()])\n",
    "\n",
    "    user_prompt = f\"Conversation:\\n{full_text}\\n\\nContext summary:\"\n",
    "\n",
    "    async with semaphore:\n",
    "        response = await client.chat.completions.create(\n",
    "            model=\"gpt-4o-mini\",\n",
    "            messages=[\n",
    "                {\"role\": \"system\", \"content\": system_prompt},\n",
    "                {\"role\": \"user\", \"content\": user_prompt}\n",
    "            ],\n",
    "            temperature=0.5,\n",
    "        )\n",
    "\n",
    "    return response.choices[0].message.content.strip()"
   ]
  },
  {
   "cell_type": "markdown",
   "id": "27e7217f-b155-420b-bc25-3706851e37ff",
   "metadata": {},
   "source": [
    "### Processing Individual Files\n",
    "This function:\n",
    "- Loads the JSON file.  \n",
    "- Extracts metadata like `country`, `language`, and `conversation_id`.  \n",
    "- Skips files without a valid `country`.  \n",
    "- Calls `extract_context` to get the cultural summary.  \n",
    "- Returns a dictionary with the results.  "
   ]
  },
  {
   "cell_type": "code",
   "execution_count": 15,
   "id": "763883cc-9d34-44a1-ba47-7f4563d52647",
   "metadata": {},
   "outputs": [],
   "source": [
    "async def process_file(file_path):\n",
    "    with open(file_path, \"r\", encoding=\"utf-8\") as f:\n",
    "        data = json.load(f)\n",
    "\n",
    "    country = data.get(\"country\")\n",
    "    if not country or str(country).lower() == \"null\":\n",
    "        print(f\"⏭️ Skipped (no country): {file_path}\")\n",
    "        return None\n",
    "\n",
    "    conversation_id = data.get(\"conversation_id\", \"unknown_id\")\n",
    "    language = data.get(\"language\", \"en\")\n",
    "    messages = data.get(\"messages\", [])\n",
    "\n",
    "    try:\n",
    "        context = await extract_context(messages, country, language)\n",
    "        print(f\"✅ Processed: {conversation_id}\")\n",
    "        return {\n",
    "            \"conversation_id\": conversation_id,\n",
    "            \"context\": context\n",
    "        }\n",
    "    except Exception as e:\n",
    "        print(f\"❌ Error with {conversation_id}: {e}\")\n",
    "        return None\n"
   ]
  },
  {
   "cell_type": "markdown",
   "id": "73f5e73e-e2b8-43c7-b621-83f556cf26de",
   "metadata": {},
   "source": [
    "### Main Function\n",
    "The `main` function:\n",
    "1. Lists all `.json` files in the input folder (limited to 10 for testing).  \n",
    "2. Processes them in parallel using `asyncio.gather`.  \n",
    "3. Saves the results to a new JSON file.  "
   ]
  },
  {
   "cell_type": "code",
   "execution_count": 16,
   "id": "05eda605-5d9d-4dda-811f-e62c06b7acbf",
   "metadata": {},
   "outputs": [],
   "source": [
    "async def main():\n",
    "    files = os.listdir(input_folder)\n",
    "    json_files = [f for f in files if f.endswith(\".json\")][:10]\n",
    "\n",
    "    tasks = [\n",
    "        process_file(os.path.join(input_folder, file))\n",
    "        for file in json_files\n",
    "    ]\n",
    "\n",
    "    results = await asyncio.gather(*tasks)\n",
    "    results = [r for r in results if r]  # Remove None results\n",
    "\n",
    "    output_path = os.path.join(output_folder, \"context_summary.json\")\n",
    "    with open(output_path, \"w\", encoding=\"utf-8\") as f:\n",
    "        json.dump(results, f, indent=2, ensure_ascii=False)\n",
    "\n",
    "    print(\"\\n🏁 Processing complete. Results saved in:\", output_path)"
   ]
  },
  {
   "cell_type": "markdown",
   "id": "ef50c1d6-44b9-495a-8384-032ff776c0ce",
   "metadata": {},
   "source": [
    "### Run the Script\n",
    "This block starts the asynchronous workflow and processes all files."
   ]
  },
  {
   "cell_type": "code",
   "execution_count": 17,
   "id": "8937f92e-2b2c-4bf8-8e3c-7306371516a2",
   "metadata": {},
   "outputs": [
    {
     "name": "stdout",
     "output_type": "stream",
     "text": [
      "⏭️ Skipped (no country): ../Data Cleaning 2/Json Files\\conversation4.json\n",
      "✅ Processed: conversation3\n",
      "✅ Processed: conversation5\n",
      "✅ Processed: conversation6\n",
      "✅ Processed: conversation7\n",
      "✅ Processed: conversation8\n",
      "✅ Processed: conversation10\n",
      "✅ Processed: conversation1\n",
      "✅ Processed: conversation2\n",
      "✅ Processed: conversation9\n",
      "\n",
      "🏁 Processing complete. Results saved in: ./context\\context_summary.json\n"
     ]
    }
   ],
   "source": [
    "await main()"
   ]
  },
  {
   "cell_type": "code",
   "execution_count": null,
   "id": "9e834a61-ac31-4f10-a88d-bd4354df9914",
   "metadata": {},
   "outputs": [],
   "source": []
  }
 ],
 "metadata": {
  "kernelspec": {
   "display_name": "Python 3 (ipykernel)",
   "language": "python",
   "name": "python3"
  },
  "language_info": {
   "codemirror_mode": {
    "name": "ipython",
    "version": 3
   },
   "file_extension": ".py",
   "mimetype": "text/x-python",
   "name": "python",
   "nbconvert_exporter": "python",
   "pygments_lexer": "ipython3",
   "version": "3.11.9"
  }
 },
 "nbformat": 4,
 "nbformat_minor": 5
}
