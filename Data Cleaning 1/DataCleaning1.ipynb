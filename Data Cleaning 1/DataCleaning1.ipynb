{
 "cells": [
  {
   "cell_type": "markdown",
   "id": "7769bf04-463b-4d6b-8330-77edf2fb0534",
   "metadata": {},
   "source": [
    "# Data Cleaning and De-identification Pipeline\n",
    "\n",
    "This notebook processes raw Excel files containing conversations.  \n",
    "The goal is to:\n",
    "1. Load `.xlsx` files from a folder.  \n",
    "2. Clean and de-identify sensitive information using Azure OpenAI.  \n",
    "3. Save the processed conversations as `.json` files.  "
   ]
  },
  {
   "cell_type": "code",
   "execution_count": 1,
   "id": "c4a5eec1-3ac0-44aa-935a-246cdf8d919e",
   "metadata": {},
   "outputs": [],
   "source": [
    "import os\n",
    "import asyncio\n",
    "import pandas as pd\n",
    "import json\n",
    "from langdetect import detect\n",
    "from openai import AzureOpenAI"
   ]
  },
  {
   "cell_type": "markdown",
   "id": "1d510884-5302-4127-a344-d2f98e854a60",
   "metadata": {},
   "source": [
    "### 1. Define input and output directories\n",
    "\n",
    "We set the folder where the raw Excel files are stored, and also create an output\n",
    "directory (`cleaned_json1`) where the processed JSON files will be saved."
   ]
  },
  {
   "cell_type": "code",
   "execution_count": 9,
   "id": "246488fc-e575-46cf-be9f-15b34ceb9e8b",
   "metadata": {},
   "outputs": [],
   "source": [
    "folderpath = \"../raw data\"\n",
    "output_dir = \"cleaned_json1\"\n",
    "os.makedirs(output_dir, exist_ok=True)"
   ]
  },
  {
   "cell_type": "markdown",
   "id": "739df023-929e-45c7-b4bd-455ff12e392a",
   "metadata": {},
   "source": [
    "### 2. Initialize the Azure OpenAI client\n",
    "\n",
    "We configure the client with the API key, version, and endpoint.  \n",
    "This client will be used later to call the `chat.completions` endpoint for text cleaning."
   ]
  },
  {
   "cell_type": "code",
   "execution_count": 10,
   "id": "48fce69f-bc7d-4431-b5d5-e3fd6466e264",
   "metadata": {},
   "outputs": [],
   "source": [
    "client = AzureOpenAI(\n",
    "    api_key=\"YOUR-API-KEY\",\n",
    "    api_version=\"2024-02-15-preview\",\n",
    "    azure_endpoint=\"https://fallbackmodel.openai.azure.com/\"\n",
    ")"
   ]
  },
  {
   "cell_type": "markdown",
   "id": "394ab356-d794-4a79-be2a-e66622d6e837",
   "metadata": {},
   "source": [
    "### 3. Define text cleaning function\n",
    "\n",
    "This function sends the text to the Azure OpenAI model with a detailed prompt.  \n",
    "The model returns the cleaned and de-identified version of the input."
   ]
  },
  {
   "cell_type": "code",
   "execution_count": 11,
   "id": "6c28473b-b4e6-46a0-8d16-d119d2a6261a",
   "metadata": {},
   "outputs": [],
   "source": [
    "def clean_and_deidentify_text(text):\n",
    "    prompt = f\"\"\"\n",
    "    You are a data cleaning assistant. When given a text, you will return ONLY the cleaned and de-identified version of the text, with no extra labels, no explanations, and no headers.\n",
    "    Replace names, phone numbers, and locations with <PERSON>, <PHONE_NUMBER>, <LOCATION>, etc.\n",
    "    Replace email addresses with <EMAIL> and URLs or web links with <URL>.\n",
    "    Replace personal IDs or account numbers with <ID_NUMBER> or <ACCOUNT_NUMBER>.\n",
    "    Replace dates and times with <DATE> or <TIME> in a consistent format.\n",
    "    Replace emojis with descriptive placeholders in the format (:happy), (:sad), (:thumbs_up), etc., so the meaning remains clear.\n",
    "    Remove noise like excessive punctuation and irrelevant words.\n",
    "    Normalize text casing to sentence case, remove extra spaces or tabs, and replace double newlines with single newlines.\n",
    "    Correct obvious spelling mistakes and fix simple grammar errors where possible.\n",
    "    \n",
    "    Original Text:\n",
    "    {text}\n",
    "    \"\"\"\n",
    "    response = client.chat.completions.create(\n",
    "        model=\"gpt-4o-fallback\",\n",
    "        messages=[\n",
    "            {\"role\": \"system\", \"content\": \"You are a helpful assistant for data cleaning.\"},\n",
    "            {\"role\": \"user\", \"content\": prompt}\n",
    "        ],\n",
    "        temperature=0.5,\n",
    "        max_tokens=2000\n",
    "    )\n",
    "    return response.choices[0].message.content.strip()"
   ]
  },
  {
   "cell_type": "markdown",
   "id": "78c372d5-0340-4a27-9856-28c58660fbb3",
   "metadata": {},
   "source": [
    "### 4. Process a single conversation\n",
    "\n",
    "This function takes a DataFrame representing a conversation and a conversation ID.  \n",
    "It iterates over each row, cleans the text, and builds a list of messages.  \n",
    "It also detects the overall language of the conversation."
   ]
  },
  {
   "cell_type": "code",
   "execution_count": 12,
   "id": "9eb780cf-fa41-44dc-83d7-d949b7767803",
   "metadata": {},
   "outputs": [],
   "source": [
    "def process_conversation(conversation_df, conversation_id):\n",
    "\n",
    "    detected_language = \"unknown\"\n",
    "\n",
    "    cleaned_messages = []\n",
    "    all_text = \"\"\n",
    "\n",
    "    for _, row in conversation_df.iterrows():\n",
    "        role = str(row[\"role\"]).strip().lower()\n",
    "        text = str(row[\"text\"]).strip()\n",
    "\n",
    "        try:\n",
    "            cleaned_text = clean_and_deidentify_text(text)\n",
    "        except Exception:\n",
    "            cleaned_text = \"<CONTENT_FILTERED>\"\n",
    "\n",
    "        all_text += cleaned_text + \"\\n\"\n",
    "\n",
    "        cleaned_messages.append({\n",
    "            \"role\": \"user\" if role == \"user\" else \"bot\",\n",
    "            \"content\": cleaned_text\n",
    "        })\n",
    "\n",
    "    try:\n",
    "        detected_language = detect(all_text)\n",
    "    except:\n",
    "        detected_language = \"unknown\"\n",
    "\n",
    "    return {\n",
    "        \"conversation_id\": conversation_id,\n",
    "        \"messages\": cleaned_messages,\n",
    "        \"language\": detected_language\n",
    "    }"
   ]
  },
  {
   "cell_type": "markdown",
   "id": "e04f66ea-3385-43ed-a62c-3e719a17bde7",
   "metadata": {},
   "source": [
    "### 5. Process a single file\n",
    "\n",
    "This asynchronous function:\n",
    "1. Reads the Excel file into a pandas DataFrame.\n",
    "2. Processes the conversation using `process_conversation`.\n",
    "3. Saves the result as a JSON file in the output folder."
   ]
  },
  {
   "cell_type": "code",
   "execution_count": 18,
   "id": "bccdbce9-dba2-4a8f-accd-aaf668e0e546",
   "metadata": {},
   "outputs": [],
   "source": [
    "async def process_file(file_path, output_folder):\n",
    "    try:\n",
    "        df = pd.read_excel(file_path)\n",
    "\n",
    "        base_filename = os.path.splitext(os.path.basename(file_path))[0]\n",
    "        conversation_json = process_conversation(df, base_filename)\n",
    "\n",
    "        output_file_path = os.path.join(output_folder, f\"{base_filename}.json\")\n",
    "        with open(output_file_path, 'w', encoding='utf-8') as json_file:\n",
    "            json.dump(conversation_json, json_file, indent=4, ensure_ascii=False)\n",
    "\n",
    "        print(f\"{base_filename}.xlsx processed\")\n",
    "    except Exception as e:\n",
    "        print(f\"Error in file {file_path}: {e}\")"
   ]
  },
  {
   "cell_type": "markdown",
   "id": "27528092-4e8c-4bc1-bed3-56233df1e766",
   "metadata": {},
   "source": [
    "### 6. Manage concurrency with a semaphore\n",
    "\n",
    "We limit the number of concurrent tasks to 10 in order not to overload the API or system resources."
   ]
  },
  {
   "cell_type": "code",
   "execution_count": 17,
   "id": "03a0b5b0-a9e9-4022-b389-1182af38484a",
   "metadata": {},
   "outputs": [],
   "source": [
    "semaphore = asyncio.Semaphore(10)"
   ]
  },
  {
   "cell_type": "markdown",
   "id": "673674c7-8ce4-4a5d-b5c4-c783c8950d92",
   "metadata": {},
   "source": [
    "### 7. Main function\n",
    "\n",
    "The `main` function:\n",
    "1. Lists all `.xlsx` files in the input folder.\n",
    "2. Defines an async wrapper `limited_process` that respects the semaphore.\n",
    "3. Creates tasks for all Excel files and runs them concurrently.\n",
    "4. Prints a completion message after all tasks finish."
   ]
  },
  {
   "cell_type": "code",
   "execution_count": 19,
   "id": "374a1cb1-43ae-4216-aaf3-92514a9f402f",
   "metadata": {},
   "outputs": [],
   "source": [
    "async def main():\n",
    "    files = os.listdir(folderpath)\n",
    "    xlsx_files = [f for f in files if f.endswith(\".xlsx\")]\n",
    "\n",
    "    async def limited_process(file):\n",
    "        async with semaphore:\n",
    "            file_path = os.path.join(folderpath, file)\n",
    "            await process_file(file_path, output_dir)\n",
    "\n",
    "    tasks = [limited_process(file) for file in xlsx_files]\n",
    "    await asyncio.gather(*tasks)\n",
    "\n",
    "    print(f\"\\n Process complete\")"
   ]
  },
  {
   "cell_type": "markdown",
   "id": "8375298f-715d-4ee4-a624-46e34c3129a3",
   "metadata": {},
   "source": [
    "### 8. Run the pipeline\n",
    "\n",
    "Finally, we run the `main()` function to start processing the files."
   ]
  },
  {
   "cell_type": "code",
   "execution_count": 20,
   "id": "8832ceef-8bde-4ef1-a347-d2363218a1b6",
   "metadata": {},
   "outputs": [
    {
     "name": "stdout",
     "output_type": "stream",
     "text": [
      "conversation1.xlsx processed\n",
      "conversation10.xlsx processed\n",
      "conversation2.xlsx processed\n",
      "conversation3.xlsx processed\n",
      "conversation4.xlsx processed\n",
      "conversation5.xlsx processed\n",
      "conversation6.xlsx processed\n",
      "conversation7.xlsx processed\n",
      "conversation8.xlsx processed\n",
      "conversation9.xlsx processed\n",
      "\n",
      " Process complete\n"
     ]
    }
   ],
   "source": [
    "await main()"
   ]
  }
 ],
 "metadata": {
  "kernelspec": {
   "display_name": "Python 3 (ipykernel)",
   "language": "python",
   "name": "python3"
  },
  "language_info": {
   "codemirror_mode": {
    "name": "ipython",
    "version": 3
   },
   "file_extension": ".py",
   "mimetype": "text/x-python",
   "name": "python",
   "nbconvert_exporter": "python",
   "pygments_lexer": "ipython3",
   "version": "3.11.9"
  }
 },
 "nbformat": 4,
 "nbformat_minor": 5
}
